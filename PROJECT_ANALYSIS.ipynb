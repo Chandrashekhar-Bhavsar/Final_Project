{
 "cells": [
  {
   "cell_type": "code",
   "execution_count": 1,
   "id": "7b8d7836",
   "metadata": {},
   "outputs": [],
   "source": [
    "# Intialization\n",
    "import os\n",
    "import sys\n",
    "\n",
    "os.environ[\"SPARK_HOME\"] = \"/home/talentum/spark\"\n",
    "os.environ[\"PYLIB\"] = os.environ[\"SPARK_HOME\"] + \"/python/lib\"\n",
    "# In below two lines, use /usr/bin/python2.7 if you want to use Python 2\n",
    "os.environ[\"PYSPARK_PYTHON\"] = \"/usr/bin/python3.6\" \n",
    "os.environ[\"PYSPARK_DRIVER_PYTHON\"] = \"/usr/bin/python3\"\n",
    "sys.path.insert(0, os.environ[\"PYLIB\"] +\"/py4j-0.10.7-src.zip\")\n",
    "sys.path.insert(0, os.environ[\"PYLIB\"] +\"/pyspark.zip\")\n",
    "\n",
    "# NOTE: Whichever package you want mention here.\n",
    "# os.environ['PYSPARK_SUBMIT_ARGS'] = '--packages com.databricks:spark-xml_2.11:0.6.0 pyspark-shell' \n",
    "# os.environ['PYSPARK_SUBMIT_ARGS'] = '--packages org.apache.spark:spark-avro_2.11:2.4.0 pyspark-shell'\n",
    "os.environ['PYSPARK_SUBMIT_ARGS'] = '--packages com.databricks:spark-xml_2.11:0.6.0,org.apache.spark:spark-avro_2.11:2.4.3 pyspark-shell'\n",
    "# os.environ['PYSPARK_SUBMIT_ARGS'] = '--packages com.databricks:spark-xml_2.11:0.6.0,org.apache.spark:spark-avro_2.11:2.4.0 pyspark-shell'"
   ]
  },
  {
   "cell_type": "code",
   "execution_count": 2,
   "id": "a5b79d87",
   "metadata": {},
   "outputs": [],
   "source": [
    "#Entrypoint 2.x\n",
    "from pyspark.sql import SparkSession\n",
    "spark = SparkSession.builder.appName(\"Spark SQL basic example\").enableHiveSupport().getOrCreate()\n",
    "\n",
    "# On yarn:\n",
    "# spark = SparkSession.builder.appName(\"Spark SQL basic example\").enableHiveSupport().master(\"yarn\").getOrCreate()\n",
    "# specify .master(\"yarn\")\n",
    "\n",
    "sc = spark.sparkContext"
   ]
  },
  {
   "cell_type": "code",
   "execution_count": 3,
   "id": "fdaaa89e",
   "metadata": {},
   "outputs": [],
   "source": [
    "file_path = \"file:///home/talentum/shared/chandra_cleaned.csv\"\n",
    "\n",
    "\n",
    "# Create an DataFrame from file_path\n",
    "heart_df = spark.read.csv(file_path, header=True, inferSchema=True)"
   ]
  },
  {
   "cell_type": "code",
   "execution_count": 4,
   "id": "7c6ce88f",
   "metadata": {},
   "outputs": [],
   "source": [
    "heart_df.createOrReplaceTempView(\"new_heart\")"
   ]
  },
  {
   "cell_type": "code",
   "execution_count": 5,
   "id": "54b94afc",
   "metadata": {},
   "outputs": [],
   "source": [
    "query=spark.sql(\"select X_MICHD from new_heart\")"
   ]
  },
  {
   "cell_type": "code",
   "execution_count": 6,
   "id": "b00735d0",
   "metadata": {},
   "outputs": [
    {
     "data": {
      "text/plain": [
       "[Row(X_MICHD=0.0), Row(X_MICHD=0.0)]"
      ]
     },
     "execution_count": 6,
     "metadata": {},
     "output_type": "execute_result"
    }
   ],
   "source": [
    "query.take(2)"
   ]
  },
  {
   "cell_type": "markdown",
   "id": "b8221275",
   "metadata": {},
   "source": [
    "## Analysis On Features"
   ]
  },
  {
   "cell_type": "markdown",
   "id": "5997bddb",
   "metadata": {},
   "source": [
    "### Analyzing Age column"
   ]
  },
  {
   "cell_type": "code",
   "execution_count": 45,
   "id": "71247c68",
   "metadata": {},
   "outputs": [],
   "source": [
    "query=spark.sql(\"select (case when X_AGE_G =1 then 'AGE_18_24' when X_AGE_G=2 then 'AGE_25_34' when X_AGE_G=3 then 'AGE_35_44' when X_AGE_G=4 then 'AGE_45_54' when X_AGE_G=5 then 'AGE_55_64' when X_AGE_G=6 then 'AGE_Above_64' end) as AGE_CATEGORY, count(X_AGE_G)as cnt from new_heart where X_MICHD=1.0 group by X_AGE_G order by cnt desc\") "
   ]
  },
  {
   "cell_type": "code",
   "execution_count": 47,
   "id": "5acd9aff",
   "metadata": {},
   "outputs": [
    {
     "data": {
      "text/plain": [
       "[Row(AGE_CATEGORY='AGE_Above_64', cnt=22824),\n",
       " Row(AGE_CATEGORY='AGE_55_64', cnt=6734),\n",
       " Row(AGE_CATEGORY='AGE_45_54', cnt=2912),\n",
       " Row(AGE_CATEGORY='AGE_35_44', cnt=1036),\n",
       " Row(AGE_CATEGORY='AGE_25_34', cnt=477),\n",
       " Row(AGE_CATEGORY='AGE_18_24', cnt=180)]"
      ]
     },
     "execution_count": 47,
     "metadata": {},
     "output_type": "execute_result"
    }
   ],
   "source": [
    "query.collect()"
   ]
  },
  {
   "cell_type": "code",
   "execution_count": null,
   "id": "35183eec",
   "metadata": {},
   "outputs": [],
   "source": [
    "# Among Detected Heart Disease, count of people above age of 64 is more"
   ]
  },
  {
   "cell_type": "markdown",
   "id": "280e921d",
   "metadata": {},
   "source": [
    "### Analyzing Body Mass Index "
   ]
  },
  {
   "cell_type": "code",
   "execution_count": 35,
   "id": "85376384",
   "metadata": {},
   "outputs": [],
   "source": [
    "query1=spark.sql(\"select (case when X_BMI5CAT=1.0 then 'Underweight' when X_BMI5CAT=2.0 then 'Normal Weight' when X_BMI5CAT=3.0 then 'Overweight' when X_BMI5CAT=4.0 then 'Obese' end) as BMI5CAT, count(X_BMI5CAT)as cnt from new_heart where X_MICHD=1.0 group by X_BMI5CAT order by cnt desc\")"
   ]
  },
  {
   "cell_type": "code",
   "execution_count": 36,
   "id": "6855fa90",
   "metadata": {},
   "outputs": [
    {
     "data": {
      "text/plain": [
       "[Row(BMI5CAT='Overweight', cnt=13975),\n",
       " Row(BMI5CAT='Obese', cnt=12254),\n",
       " Row(BMI5CAT='Normal Weight', cnt=7432),\n",
       " Row(BMI5CAT='Underweight', cnt=502)]"
      ]
     },
     "execution_count": 36,
     "metadata": {},
     "output_type": "execute_result"
    }
   ],
   "source": [
    "query1.collect()"
   ]
  },
  {
   "cell_type": "code",
   "execution_count": null,
   "id": "ac639e1c",
   "metadata": {},
   "outputs": [],
   "source": [
    "# Among Detected Heart disease, count of Overweight category is more compared with other categories\n"
   ]
  },
  {
   "cell_type": "markdown",
   "id": "773abc4f",
   "metadata": {},
   "source": [
    "### Analyzing Gender "
   ]
  },
  {
   "cell_type": "code",
   "execution_count": 48,
   "id": "93610857",
   "metadata": {},
   "outputs": [],
   "source": [
    "query2=spark.sql(\"select (case when SEXVAR=1 then 'Male' when SEXVAR=2 then 'Female' end) as Gender, count(SEXVAR) cnt_gen from new_heart where X_MICHD=1.0 group by SEXVAR order by cnt_gen desc\")"
   ]
  },
  {
   "cell_type": "code",
   "execution_count": 50,
   "id": "07661925",
   "metadata": {},
   "outputs": [
    {
     "data": {
      "text/plain": [
       "[Row(Gender='Male', cnt_gen=19477), Row(Gender='Female', cnt_gen=14686)]"
      ]
     },
     "execution_count": 50,
     "metadata": {},
     "output_type": "execute_result"
    }
   ],
   "source": [
    "query2.collect()"
   ]
  },
  {
   "cell_type": "code",
   "execution_count": 51,
   "id": "d16f5193",
   "metadata": {},
   "outputs": [],
   "source": [
    "# Among Detected heart Disease, count of Males are more"
   ]
  },
  {
   "cell_type": "markdown",
   "id": "9b821a42",
   "metadata": {},
   "source": [
    "### Analyzing Marital"
   ]
  },
  {
   "cell_type": "code",
   "execution_count": 57,
   "id": "938b69fa",
   "metadata": {},
   "outputs": [],
   "source": [
    "query3=spark.sql(\"select (case when MARITAL=1.0 then 'Married' when MARITAL=2.0 then 'Divorced' when MARITAL=3.0 then 'Widowed' when MARITAL=4.0 then 'Seperated' when MARITAL=5.0 then 'Never_Maried' when MARITAL=6.0 then 'Mem' end )as Marital, count(MARITAL)as cnt from new_heart where X_MICHD=1.0 group by MARITAL order by cnt desc\")"
   ]
  },
  {
   "cell_type": "code",
   "execution_count": 58,
   "id": "6ac476c7",
   "metadata": {},
   "outputs": [
    {
     "data": {
      "text/plain": [
       "[Row(Marital='Married', cnt=16593),\n",
       " Row(Marital='Widowed', cnt=7600),\n",
       " Row(Marital='Divorced', cnt=5824),\n",
       " Row(Marital='Never_Maried', cnt=2780),\n",
       " Row(Marital='Seperated', cnt=743),\n",
       " Row(Marital='Mem', cnt=623)]"
      ]
     },
     "execution_count": 58,
     "metadata": {},
     "output_type": "execute_result"
    }
   ],
   "source": [
    "query3.collect()"
   ]
  },
  {
   "cell_type": "code",
   "execution_count": 59,
   "id": "7e64d362",
   "metadata": {},
   "outputs": [],
   "source": [
    "# Among Detected Heart Disease , count of Married people is more"
   ]
  },
  {
   "cell_type": "markdown",
   "id": "838b4352",
   "metadata": {},
   "source": [
    "### Analyzing Smoker"
   ]
  },
  {
   "cell_type": "code",
   "execution_count": 61,
   "id": "02a7751f",
   "metadata": {},
   "outputs": [],
   "source": [
    "query4=spark.sql(\"select (case when X_SMOKER3=1 then 'Everyday_smoker' when X_SMOKER3=2 then 'Smokes_someday' when X_SMOKER3=3 then 'Former_Smoker' when X_SMOKER3=4 then 'Never_Smoked' end) as Smoke, count(X_SMOKER3)as cnt from new_heart where X_MICHD=1.0 group by X_SMOKER3 order by cnt desc\")"
   ]
  },
  {
   "cell_type": "code",
   "execution_count": 62,
   "id": "e848470a",
   "metadata": {},
   "outputs": [
    {
     "data": {
      "text/plain": [
       "[Row(Smoke='Never_Smoked', cnt=15113),\n",
       " Row(Smoke='Former_Smoker', cnt=13650),\n",
       " Row(Smoke='Everyday_smoker', cnt=4040),\n",
       " Row(Smoke='Smokes_someday', cnt=1360)]"
      ]
     },
     "execution_count": 62,
     "metadata": {},
     "output_type": "execute_result"
    }
   ],
   "source": [
    "query4.collect()"
   ]
  },
  {
   "cell_type": "code",
   "execution_count": null,
   "id": "56e70ec4",
   "metadata": {},
   "outputs": [],
   "source": [
    "# Among Detected Heart Disease, count of Never Smoked is more"
   ]
  },
  {
   "cell_type": "markdown",
   "id": "4c2f23ca",
   "metadata": {},
   "source": [
    "### Analyzing General Health"
   ]
  },
  {
   "cell_type": "code",
   "execution_count": 64,
   "id": "00460dc3",
   "metadata": {},
   "outputs": [],
   "source": [
    "query5=spark.sql(\"select (case when GENHLTH=1 then 'Excellent' when GENHLTH=2 then 'Very Good' when GENHLTH=3 then 'Good' when GENHLTH=4 then 'Fair' when GENHLTH=5 then 'Poor' end)as General_Health , count(GENHLTH)as cnt from new_heart where X_MICHD=1.0 group by GENHLTH order by cnt desc\")"
   ]
  },
  {
   "cell_type": "code",
   "execution_count": 65,
   "id": "9ce0502e",
   "metadata": {},
   "outputs": [
    {
     "data": {
      "text/plain": [
       "[Row(General_Health='Good', cnt=11657),\n",
       " Row(General_Health='Fair', cnt=9128),\n",
       " Row(General_Health='Very Good', cnt=6522),\n",
       " Row(General_Health='Poor', cnt=5029),\n",
       " Row(General_Health='Excellent', cnt=1827)]"
      ]
     },
     "execution_count": 65,
     "metadata": {},
     "output_type": "execute_result"
    }
   ],
   "source": [
    "query5.collect()"
   ]
  },
  {
   "cell_type": "code",
   "execution_count": null,
   "id": "6fc2bd96",
   "metadata": {},
   "outputs": [],
   "source": [
    "# Among Detected with Heart Disease, count of Good Genral Health People is more "
   ]
  },
  {
   "cell_type": "markdown",
   "id": "8e373d66",
   "metadata": {},
   "source": [
    "### Analyzing Mental Health"
   ]
  },
  {
   "cell_type": "code",
   "execution_count": 70,
   "id": "790426f2",
   "metadata": {},
   "outputs": [],
   "source": [
    "query6=spark.sql(\"select (case when X_MENT14D=1 then 'Good_Mental_Health' when X_MENT14D=2 then 'Short_Term_Mental_Health' when X_MENT14D=3 then 'Long_Term_Mental_Health' end )as mental_health , count(X_MENT14D)as Ment from new_heart where x_MICHD=1.0 group by X_MENT14D order by Ment desc\")"
   ]
  },
  {
   "cell_type": "code",
   "execution_count": 71,
   "id": "a0162ea8",
   "metadata": {},
   "outputs": [
    {
     "data": {
      "text/plain": [
       "[Row(mental_health='Good_Mental_Health', Ment=23036),\n",
       " Row(mental_health='Short_Term_Mental_Health', Ment=5886),\n",
       " Row(mental_health='Long_Term_Mental_Health', Ment=5241)]"
      ]
     },
     "execution_count": 71,
     "metadata": {},
     "output_type": "execute_result"
    }
   ],
   "source": [
    "query6.collect()"
   ]
  },
  {
   "cell_type": "code",
   "execution_count": null,
   "id": "937177ab",
   "metadata": {},
   "outputs": [],
   "source": [
    "# Among Detected with Heart Disease , count of Good Mental Health is more compared to Long Term Mental Health"
   ]
  },
  {
   "cell_type": "markdown",
   "id": "9b39d255",
   "metadata": {},
   "source": [
    "### Analyzing Asthma "
   ]
  },
  {
   "cell_type": "code",
   "execution_count": 75,
   "id": "bd7c6df8",
   "metadata": {},
   "outputs": [],
   "source": [
    "query8=spark.sql(\"select (case when ASTHMA3=1 then 'YES' when ASTHMA3=2 then 'No' end)as Asthma , count(ASTHMA3) as cnt from new_heart where X_MICHD=1.0 group by ASTHMA3 order by cnt desc\")"
   ]
  },
  {
   "cell_type": "code",
   "execution_count": 76,
   "id": "26c81659",
   "metadata": {},
   "outputs": [
    {
     "data": {
      "text/plain": [
       "[Row(Asthma='No', cnt=27839), Row(Asthma='YES', cnt=6324)]"
      ]
     },
     "execution_count": 76,
     "metadata": {},
     "output_type": "execute_result"
    }
   ],
   "source": [
    "query8.collect()"
   ]
  },
  {
   "cell_type": "code",
   "execution_count": null,
   "id": "e61fd563",
   "metadata": {},
   "outputs": [],
   "source": [
    "# Among Detected Heart Disease count of people having Asthma is less compared to not detected with Asthma"
   ]
  },
  {
   "cell_type": "markdown",
   "id": "1859ef0f",
   "metadata": {},
   "source": [
    "### Analyzing Stroke"
   ]
  },
  {
   "cell_type": "code",
   "execution_count": 78,
   "id": "732b563b",
   "metadata": {},
   "outputs": [],
   "source": [
    "query9=spark.sql(\"select (case when CVDSTRK3=1 then 'Yes' when CVDSTRK3=2 then 'No' end) as Stroke, count(CVDSTRK3) as cnt from new_heart where X_MICHd=1.0 group by CVDSTRK3 order by cnt\")"
   ]
  },
  {
   "cell_type": "code",
   "execution_count": 79,
   "id": "934a4362",
   "metadata": {},
   "outputs": [
    {
     "data": {
      "text/plain": [
       "[Row(Stroke='Yes', cnt=5584), Row(Stroke='No', cnt=28579)]"
      ]
     },
     "execution_count": 79,
     "metadata": {},
     "output_type": "execute_result"
    }
   ],
   "source": [
    "query9.collect()"
   ]
  },
  {
   "cell_type": "code",
   "execution_count": null,
   "id": "20691b63",
   "metadata": {},
   "outputs": [],
   "source": [
    "# Among Detected Heart Disease count of people not having stroke is more"
   ]
  },
  {
   "cell_type": "markdown",
   "id": "87b4daa5",
   "metadata": {},
   "source": [
    "### analyzing RACE"
   ]
  },
  {
   "cell_type": "code",
   "execution_count": 84,
   "id": "eaee6f6b",
   "metadata": {},
   "outputs": [],
   "source": [
    "query10=spark.sql(\"select (case when X_IMPRACE=1 then 'White' when X_IMPRACE=2 then 'Black' when X_IMPRACE=3 then 'Asian' when X_IMPRACE=4 then 'Non-Hispanic' when X_IMPRACE=5 then 'Hispanic' end) as Race ,count(X_IMPRACE)as cnt from new_heart where X_MICHD=1.0 group by X_IMPRACE order by cnt desc \")"
   ]
  },
  {
   "cell_type": "code",
   "execution_count": 85,
   "id": "6268c3e3",
   "metadata": {},
   "outputs": [
    {
     "data": {
      "text/plain": [
       "[Row(Race='White', cnt=27701),\n",
       " Row(Race='Black', cnt=2329),\n",
       " Row(Race='Hispanic', cnt=1901),\n",
       " Row(Race=None, cnt=1186),\n",
       " Row(Race='Non-Hispanic', cnt=715),\n",
       " Row(Race='Asian', cnt=331)]"
      ]
     },
     "execution_count": 85,
     "metadata": {},
     "output_type": "execute_result"
    }
   ],
   "source": [
    "query10.collect()"
   ]
  },
  {
   "cell_type": "code",
   "execution_count": 86,
   "id": "5595d134",
   "metadata": {},
   "outputs": [],
   "source": [
    "# Among Detected heart disease white people are having higher count"
   ]
  },
  {
   "cell_type": "markdown",
   "id": "6482d642",
   "metadata": {},
   "source": [
    "### Analyzing Kidney Disease"
   ]
  },
  {
   "cell_type": "code",
   "execution_count": 87,
   "id": "f153d135",
   "metadata": {},
   "outputs": [],
   "source": [
    "query11=spark.sql(\"select (case when CHCKDNY2=1 then 'Yes' when CHCKDNY2=2 then 'No' end )as Kidney , count(CHCKDNY2)as cnt from new_heart where X_MICHD=1.0 group by CHCKDNY2 order by cnt desc\")"
   ]
  },
  {
   "cell_type": "code",
   "execution_count": 88,
   "id": "85049bef",
   "metadata": {},
   "outputs": [
    {
     "data": {
      "text/plain": [
       "[Row(Kidney='No', cnt=29810), Row(Kidney='Yes', cnt=4353)]"
      ]
     },
     "execution_count": 88,
     "metadata": {},
     "output_type": "execute_result"
    }
   ],
   "source": [
    "query11.collect()"
   ]
  },
  {
   "cell_type": "code",
   "execution_count": null,
   "id": "39fdee41",
   "metadata": {},
   "outputs": [],
   "source": [
    "# Among Detected Heart Disease count of People not having kidney disease is more "
   ]
  },
  {
   "cell_type": "markdown",
   "id": "8579b0e3",
   "metadata": {},
   "source": [
    "### Analyzing Skin cancer"
   ]
  },
  {
   "cell_type": "code",
   "execution_count": 89,
   "id": "20873f96",
   "metadata": {},
   "outputs": [],
   "source": [
    "query12=spark.sql(\"select (case when CHCSCNCR=1 then 'Yes' when CHCSCNCR=2 then 'No' end)as Skin_Cancer , count(CHCSCNCR)as cnt from new_heart where X_MICHD=1.0 group by CHCSCNCR order by cnt\")"
   ]
  },
  {
   "cell_type": "code",
   "execution_count": 90,
   "id": "03f72a9e",
   "metadata": {},
   "outputs": [
    {
     "data": {
      "text/plain": [
       "[Row(Skin_Cancer='Yes', cnt=6097), Row(Skin_Cancer='No', cnt=28066)]"
      ]
     },
     "execution_count": 90,
     "metadata": {},
     "output_type": "execute_result"
    }
   ],
   "source": [
    "query12.collect()"
   ]
  },
  {
   "cell_type": "code",
   "execution_count": 91,
   "id": "7d2030eb",
   "metadata": {},
   "outputs": [],
   "source": [
    "# Among Detected Heart Disease count of people not having Skin Cancer is more"
   ]
  },
  {
   "cell_type": "code",
   "execution_count": null,
   "id": "2a077ca1",
   "metadata": {},
   "outputs": [],
   "source": []
  },
  {
   "cell_type": "code",
   "execution_count": 92,
   "id": "37f86b72",
   "metadata": {},
   "outputs": [],
   "source": [
    "query12=spark.sql(\"select (case when CHCOCNCR=1 then 'Yes' when CHCOCNCR=2 then 'No' end)as Cancer , count(CHCOCNCR)as cnt from new_heart where X_MICHD=1.0 group by CHCOCNCR order by cnt\")"
   ]
  },
  {
   "cell_type": "code",
   "execution_count": 93,
   "id": "3a77572d",
   "metadata": {},
   "outputs": [
    {
     "data": {
      "text/plain": [
       "[Row(Cancer='Yes', cnt=6119), Row(Cancer='No', cnt=28044)]"
      ]
     },
     "execution_count": 93,
     "metadata": {},
     "output_type": "execute_result"
    }
   ],
   "source": [
    "query12.collect()"
   ]
  },
  {
   "cell_type": "code",
   "execution_count": 94,
   "id": "f8d626b7",
   "metadata": {},
   "outputs": [],
   "source": [
    "# among Detected Heart Disease count of people not having any type of cancer is more"
   ]
  },
  {
   "cell_type": "markdown",
   "id": "0b0adf81",
   "metadata": {},
   "source": [
    "### Anlayzing Depressive Disorder "
   ]
  },
  {
   "cell_type": "code",
   "execution_count": 97,
   "id": "aec0851a",
   "metadata": {},
   "outputs": [],
   "source": [
    "query13=spark.sql(\"select (case when  ADDEPEV3=1 then 'Yes' when  ADDEPEV3=2 then 'No' end) as Depressive_Disorder , count(ADDEPEV3) as cnt from new_heart group by  ADDEPEV3 order by cnt desc\")"
   ]
  },
  {
   "cell_type": "code",
   "execution_count": 98,
   "id": "6dbd212e",
   "metadata": {},
   "outputs": [
    {
     "data": {
      "text/plain": [
       "[Row(Depressive_Disorder='No', cnt=326138),\n",
       " Row(Depressive_Disorder='Yes', cnt=75820)]"
      ]
     },
     "execution_count": 98,
     "metadata": {},
     "output_type": "execute_result"
    }
   ],
   "source": [
    "query13.collect()"
   ]
  },
  {
   "cell_type": "code",
   "execution_count": 99,
   "id": "40de4e04",
   "metadata": {},
   "outputs": [],
   "source": [
    "# Count of Non Depressive People is more"
   ]
  },
  {
   "cell_type": "code",
   "execution_count": null,
   "id": "53773157",
   "metadata": {},
   "outputs": [],
   "source": []
  }
 ],
 "metadata": {
  "kernelspec": {
   "display_name": "Python 3",
   "language": "python",
   "name": "python3"
  },
  "language_info": {
   "codemirror_mode": {
    "name": "ipython",
    "version": 3
   },
   "file_extension": ".py",
   "mimetype": "text/x-python",
   "name": "python",
   "nbconvert_exporter": "python",
   "pygments_lexer": "ipython3",
   "version": "3.6.9"
  }
 },
 "nbformat": 4,
 "nbformat_minor": 5
}
